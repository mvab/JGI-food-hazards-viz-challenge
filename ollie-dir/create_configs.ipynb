{
 "cells": [
  {
   "cell_type": "markdown",
   "metadata": {},
   "source": [
    "Kepler documentation here https://docs.kepler.gl/docs/keplergl-jupyter"
   ]
  },
  {
   "cell_type": "code",
   "execution_count": 1,
   "metadata": {},
   "outputs": [],
   "source": [
    "from os import listdir\n",
    "from keplergl import KeplerGl\n",
    "from pprint import pprint\n",
    "import pandas as pd\n",
    "import geopandas as gpd\n",
    "import json\n",
    "import warnings\n",
    "warnings.filterwarnings('ignore')"
   ]
  },
  {
   "cell_type": "code",
   "execution_count": 2,
   "metadata": {},
   "outputs": [
    {
     "data": {
      "text/html": [
       "<div>\n",
       "<style scoped>\n",
       "    .dataframe tbody tr th:only-of-type {\n",
       "        vertical-align: middle;\n",
       "    }\n",
       "\n",
       "    .dataframe tbody tr th {\n",
       "        vertical-align: top;\n",
       "    }\n",
       "\n",
       "    .dataframe thead th {\n",
       "        text-align: right;\n",
       "    }\n",
       "</style>\n",
       "<table border=\"1\" class=\"dataframe\">\n",
       "  <thead>\n",
       "    <tr style=\"text-align: right;\">\n",
       "      <th></th>\n",
       "      <th>ID</th>\n",
       "      <th>ID_incident</th>\n",
       "      <th>date_published</th>\n",
       "      <th>data_source</th>\n",
       "      <th>source_type</th>\n",
       "      <th>alert_type</th>\n",
       "      <th>raw_text_product</th>\n",
       "      <th>product_categoty</th>\n",
       "      <th>product</th>\n",
       "      <th>origin_country</th>\n",
       "      <th>...</th>\n",
       "      <th>date_published_quarter</th>\n",
       "      <th>date_published_year_quarter</th>\n",
       "      <th>long.origin</th>\n",
       "      <th>lat.origin</th>\n",
       "      <th>long.notified</th>\n",
       "      <th>lat.notified</th>\n",
       "      <th>long.origin.rand</th>\n",
       "      <th>lat.origin.rand</th>\n",
       "      <th>long.notified.rand</th>\n",
       "      <th>lat.notified.rand</th>\n",
       "    </tr>\n",
       "  </thead>\n",
       "  <tbody>\n",
       "    <tr>\n",
       "      <th>0</th>\n",
       "      <td>218195</td>\n",
       "      <td>218195</td>\n",
       "      <td>2020-05-20</td>\n",
       "      <td>AFSCA Recalls (Belgium)</td>\n",
       "      <td>Official</td>\n",
       "      <td>warning</td>\n",
       "      <td>Allergens not listed on the label are almonds ...</td>\n",
       "      <td>nuts; nut products and seeds</td>\n",
       "      <td>almond</td>\n",
       "      <td>Belgium</td>\n",
       "      <td>...</td>\n",
       "      <td>Q2</td>\n",
       "      <td>2020-Q2</td>\n",
       "      <td>4.640646</td>\n",
       "      <td>50.639814</td>\n",
       "      <td>4.640646</td>\n",
       "      <td>50.639814</td>\n",
       "      <td>6.185632</td>\n",
       "      <td>50.209710</td>\n",
       "      <td>4.178676</td>\n",
       "      <td>50.869108</td>\n",
       "    </tr>\n",
       "    <tr>\n",
       "      <th>1</th>\n",
       "      <td>218196</td>\n",
       "      <td>218196</td>\n",
       "      <td>2020-05-20</td>\n",
       "      <td>Food Poisoning Bulletin (US)</td>\n",
       "      <td>Others</td>\n",
       "      <td>outbreak</td>\n",
       "      <td>Backyard Poultry Salmonella Outbreak Sickens 9...</td>\n",
       "      <td>poultry meat and poultry meat products</td>\n",
       "      <td>chicken</td>\n",
       "      <td>United States of America</td>\n",
       "      <td>...</td>\n",
       "      <td>Q2</td>\n",
       "      <td>2020-Q2</td>\n",
       "      <td>-112.461671</td>\n",
       "      <td>45.679552</td>\n",
       "      <td>-112.461671</td>\n",
       "      <td>45.679552</td>\n",
       "      <td>-94.358596</td>\n",
       "      <td>33.316786</td>\n",
       "      <td>-112.120696</td>\n",
       "      <td>47.499206</td>\n",
       "    </tr>\n",
       "    <tr>\n",
       "      <th>2</th>\n",
       "      <td>218198</td>\n",
       "      <td>218198</td>\n",
       "      <td>2020-05-20</td>\n",
       "      <td>Product Recalls Website: Oulah (France)</td>\n",
       "      <td>Others</td>\n",
       "      <td>recall</td>\n",
       "      <td>Recall product : Terrine of guinea Fowl with g...</td>\n",
       "      <td>fruits and vegetables</td>\n",
       "      <td>pepper</td>\n",
       "      <td>France</td>\n",
       "      <td>...</td>\n",
       "      <td>Q2</td>\n",
       "      <td>2020-Q2</td>\n",
       "      <td>2.536185</td>\n",
       "      <td>46.187006</td>\n",
       "      <td>2.536185</td>\n",
       "      <td>46.187006</td>\n",
       "      <td>5.772482</td>\n",
       "      <td>49.475143</td>\n",
       "      <td>6.806947</td>\n",
       "      <td>48.674944</td>\n",
       "    </tr>\n",
       "    <tr>\n",
       "      <th>3</th>\n",
       "      <td>218199</td>\n",
       "      <td>218199</td>\n",
       "      <td>2020-05-20</td>\n",
       "      <td>Product Recalls Website: Oulah (France)</td>\n",
       "      <td>Others</td>\n",
       "      <td>recall</td>\n",
       "      <td>Recall product : Chiffonnade of ham cooked abo...</td>\n",
       "      <td>meat and meat products (other than poultry)</td>\n",
       "      <td>pork</td>\n",
       "      <td>France</td>\n",
       "      <td>...</td>\n",
       "      <td>Q2</td>\n",
       "      <td>2020-Q2</td>\n",
       "      <td>2.536185</td>\n",
       "      <td>46.187006</td>\n",
       "      <td>2.536185</td>\n",
       "      <td>46.187006</td>\n",
       "      <td>3.036312</td>\n",
       "      <td>47.324240</td>\n",
       "      <td>-3.723047</td>\n",
       "      <td>48.392345</td>\n",
       "    </tr>\n",
       "    <tr>\n",
       "      <th>4</th>\n",
       "      <td>218201</td>\n",
       "      <td>218201</td>\n",
       "      <td>2020-05-20</td>\n",
       "      <td>Product Recalls Website: Oulah (France)</td>\n",
       "      <td>Others</td>\n",
       "      <td>recall</td>\n",
       "      <td>Recall product : peas &amp; carrots brand DANIVAL</td>\n",
       "      <td>fruits and vegetables</td>\n",
       "      <td>pea</td>\n",
       "      <td>France</td>\n",
       "      <td>...</td>\n",
       "      <td>Q2</td>\n",
       "      <td>2020-Q2</td>\n",
       "      <td>2.536185</td>\n",
       "      <td>46.187006</td>\n",
       "      <td>2.536185</td>\n",
       "      <td>46.187006</td>\n",
       "      <td>7.161731</td>\n",
       "      <td>43.821795</td>\n",
       "      <td>5.146405</td>\n",
       "      <td>49.066155</td>\n",
       "    </tr>\n",
       "  </tbody>\n",
       "</table>\n",
       "<p>5 rows × 30 columns</p>\n",
       "</div>"
      ],
      "text/plain": [
       "       ID  ID_incident date_published  \\\n",
       "0  218195       218195     2020-05-20   \n",
       "1  218196       218196     2020-05-20   \n",
       "2  218198       218198     2020-05-20   \n",
       "3  218199       218199     2020-05-20   \n",
       "4  218201       218201     2020-05-20   \n",
       "\n",
       "                               data_source source_type alert_type  \\\n",
       "0                  AFSCA Recalls (Belgium)    Official    warning   \n",
       "1             Food Poisoning Bulletin (US)      Others   outbreak   \n",
       "2  Product Recalls Website: Oulah (France)      Others     recall   \n",
       "3  Product Recalls Website: Oulah (France)      Others     recall   \n",
       "4  Product Recalls Website: Oulah (France)      Others     recall   \n",
       "\n",
       "                                    raw_text_product  \\\n",
       "0  Allergens not listed on the label are almonds ...   \n",
       "1  Backyard Poultry Salmonella Outbreak Sickens 9...   \n",
       "2  Recall product : Terrine of guinea Fowl with g...   \n",
       "3  Recall product : Chiffonnade of ham cooked abo...   \n",
       "4      Recall product : peas & carrots brand DANIVAL   \n",
       "\n",
       "                              product_categoty  product  \\\n",
       "0                 nuts; nut products and seeds   almond   \n",
       "1       poultry meat and poultry meat products  chicken   \n",
       "2                        fruits and vegetables   pepper   \n",
       "3  meat and meat products (other than poultry)     pork   \n",
       "4                        fruits and vegetables      pea   \n",
       "\n",
       "             origin_country  ... date_published_quarter  \\\n",
       "0                   Belgium  ...                     Q2   \n",
       "1  United States of America  ...                     Q2   \n",
       "2                    France  ...                     Q2   \n",
       "3                    France  ...                     Q2   \n",
       "4                    France  ...                     Q2   \n",
       "\n",
       "  date_published_year_quarter long.origin lat.origin long.notified  \\\n",
       "0                     2020-Q2    4.640646  50.639814      4.640646   \n",
       "1                     2020-Q2 -112.461671  45.679552   -112.461671   \n",
       "2                     2020-Q2    2.536185  46.187006      2.536185   \n",
       "3                     2020-Q2    2.536185  46.187006      2.536185   \n",
       "4                     2020-Q2    2.536185  46.187006      2.536185   \n",
       "\n",
       "  lat.notified long.origin.rand  lat.origin.rand  long.notified.rand  \\\n",
       "0    50.639814         6.185632        50.209710            4.178676   \n",
       "1    45.679552       -94.358596        33.316786         -112.120696   \n",
       "2    46.187006         5.772482        49.475143            6.806947   \n",
       "3    46.187006         3.036312        47.324240           -3.723047   \n",
       "4    46.187006         7.161731        43.821795            5.146405   \n",
       "\n",
       "  lat.notified.rand  \n",
       "0         50.869108  \n",
       "1         47.499206  \n",
       "2         48.674944  \n",
       "3         48.392345  \n",
       "4         49.066155  \n",
       "\n",
       "[5 rows x 30 columns]"
      ]
     },
     "execution_count": 2,
     "metadata": {},
     "output_type": "execute_result"
    }
   ],
   "source": [
    "# Load in data\n",
    "df = pd.read_csv('../data/tidy/food_hazards_data_all.tsv', sep='\\t')\n",
    "df.head()"
   ]
  },
  {
   "cell_type": "code",
   "execution_count": 3,
   "metadata": {},
   "outputs": [
    {
     "name": "stdout",
     "output_type": "stream",
     "text": [
      "User Guide: https://docs.kepler.gl/docs/keplergl-jupyter\n",
      "['gm_origin_heatmap', 'arc_fish_transport', 'cluster_recall_allergens']\n"
     ]
    }
   ],
   "source": [
    "# Instantiate the map\n",
    "map1 = KeplerGl(height=600, width=800)\n",
    "\n",
    "# Convert data to geodataframe and pass to the map\n",
    "gdf = gpd.GeoDataFrame(df, geometry=gpd.points_from_xy(df['long.origin'], df['lat.origin']))\n",
    "map1.add_data(data=gdf, name=\"food hazards\")\n",
    "\n",
    "# List stored configurations\n",
    "all_configs = [file[:-5] for file in listdir('../data/config/') if '.json' in file]\n",
    "pprint(all_configs)"
   ]
  },
  {
   "cell_type": "code",
   "execution_count": 117,
   "metadata": {},
   "outputs": [
    {
     "name": "stdout",
     "output_type": "stream",
     "text": [
      "Successfully loaded config: arc_fish_transport.json\n"
     ]
    }
   ],
   "source": [
    "# Choose a map config from those printed above\n",
    "this_config_file = all_configs[]\n",
    "try:\n",
    "    with open(f'../data/config/{this_config_file}.json', 'r') as file:\n",
    "        loaded_config = json.loads(file.read())\n",
    "    map1.config = loaded_config\n",
    "    print(f'Successfully loaded config: {this_config_file}.json')\n",
    "except FileNotFoundError:\n",
    "    print('Config does not exist, check file name. Map is still blank.')\n",
    "    del this_config_file"
   ]
  },
  {
   "cell_type": "code",
   "execution_count": 4,
   "metadata": {},
   "outputs": [
    {
     "data": {
      "application/vnd.jupyter.widget-view+json": {
       "model_id": "15fff3bdf3ff4a7989b4e754b340f560",
       "version_major": 2,
       "version_minor": 0
      },
      "text/plain": [
       "KeplerGl(data={'food hazards': {'index': [0, 1, 2, 3, 4, 5, 6, 7, 8, 9, 10, 11, 12, 13, 14, 15, 16, 17, 18, 19…"
      ]
     },
     "metadata": {},
     "output_type": "display_data"
    }
   ],
   "source": [
    "# Show the map\n",
    "map1"
   ]
  },
  {
   "cell_type": "code",
   "execution_count": 118,
   "metadata": {},
   "outputs": [
    {
     "name": "stdout",
     "output_type": "stream",
     "text": [
      "Map saved to ../data/config/arc_fish_transport.html!\n",
      "Saved configuration as arc_fish_transport.json\n"
     ]
    }
   ],
   "source": [
    "# Save any changes to map configuration\n",
    "save_file_name = this_config_file\n",
    "\n",
    "map1.save_to_html(file_name=f'../data/config/{save_file_name}.html', read_only=True)\n",
    "\n",
    "with open(f'../data/config/{save_file_name}.json', 'w') as file:\n",
    "    config = map1.config\n",
    "    file.write(json.dumps(config))\n",
    "    print(f'Saved configuration as {save_file_name}.json')"
   ]
  },
  {
   "cell_type": "markdown",
   "metadata": {},
   "source": [
    "The following cells are just used to temporarily store the current created config in case you need to re-instantiate the map"
   ]
  },
  {
   "cell_type": "code",
   "execution_count": 39,
   "metadata": {},
   "outputs": [],
   "source": [
    "# Temporarily store config\n",
    "config_temp = map1.config"
   ]
  },
  {
   "cell_type": "code",
   "execution_count": 41,
   "metadata": {},
   "outputs": [],
   "source": [
    "# Restore config to map from temp\n",
    "map1.config = config_temp"
   ]
  }
 ],
 "metadata": {
  "kernelspec": {
   "display_name": "Python 3",
   "language": "python",
   "name": "python3"
  },
  "language_info": {
   "codemirror_mode": {
    "name": "ipython",
    "version": 3
   },
   "file_extension": ".py",
   "mimetype": "text/x-python",
   "name": "python",
   "nbconvert_exporter": "python",
   "pygments_lexer": "ipython3",
   "version": "3.7.5"
  }
 },
 "nbformat": 4,
 "nbformat_minor": 2
}
